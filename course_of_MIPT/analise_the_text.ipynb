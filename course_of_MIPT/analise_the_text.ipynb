{
 "cells": [
  {
   "cell_type": "code",
   "execution_count": 203,
   "metadata": {},
   "outputs": [],
   "source": [
    "import re\n",
    "import numpy as np\n",
    "from scipy import spatial"
   ]
  },
  {
   "cell_type": "code",
   "execution_count": 204,
   "metadata": {},
   "outputs": [],
   "source": [
    "file = open('sentences.txt', 'r+')"
   ]
  },
  {
   "cell_type": "code",
   "execution_count": 205,
   "metadata": {},
   "outputs": [],
   "source": [
    "sentence_list = file.readlines()"
   ]
  },
  {
   "cell_type": "code",
   "execution_count": 206,
   "metadata": {},
   "outputs": [],
   "source": [
    "sentence_list_lower = []\n",
    "for i in sentence_list:\n",
    "    sentence_list_lower.append(i.lower())\n",
    "    "
   ]
  },
  {
   "cell_type": "code",
   "execution_count": 207,
   "metadata": {},
   "outputs": [
    {
     "name": "stdout",
     "output_type": "stream",
     "text": [
      "['in comparison to dogs, cats have not undergone major changes during the domestication process.\\n', 'as cat simply catenates streams of bytes, it can be also used to concatenate binary files, where it will just concatenate sequence of bytes.\\n', 'a common interactive use of cat for a single file is to output the content of a file to standard output.\\n', 'cats can hear sounds too faint or too high in frequency for human ears, such as those made by mice and other small animals.\\n', 'in one, people deliberately tamed cats in a process of artificial selection, as they were useful predators of vermin.\\n', 'the domesticated cat and its closest wild ancestor are both diploid organisms that possess 38 chromosomes and roughly 20,000 genes.\\n', 'domestic cats are similar in size to the other members of the genus felis, typically weighing between 4 and 5 kg (8.8 and 11.0 lb).\\n', 'however, if the output is piped or redirected, cat is unnecessary.\\n', 'cat with one named file is safer where human error is a concern - one wrong use of the default redirection symbol \">\" instead of \"<\" (often adjacent on keyboards) may permanently delete the file you were just needing to read.\\n', 'in terms of legibility, a sequence of commands starting with cat and connected by pipes has a clear left-to-right flow of information.\\n', 'cat command is one of the basic commands that you learned when you started in the unix / linux world.\\n', 'using cat command, the lines received from stdin can be redirected to a new file using redirection symbols.\\n', 'when you type simply cat command without any arguments, it just receives the stdin content and displays it in the stdout.\\n', 'leopard was released on october 26, 2007 as the successor of tiger (version 10.4), and is available in two editions.\\n', 'according to apple, leopard contains over 300 changes and enhancements over its predecessor, mac os x tiger.\\n', 'as of mid 2010, some apple computers have firmware factory installed which will no longer allow installation of mac os x leopard.\\n', 'since apple moved to using intel processors in their computers, the osx86 community has developed and now also allows mac os x tiger and later releases to be installed on non-apple x86-based computers.\\n', \"os x mountain lion was released on july 25, 2012 for purchase and download through apple's mac app store, as part of a switch to releasing os x versions online and every year.\\n\", 'apple has released a small patch for the three most recent versions of safari running on os x yosemite, mavericks, and mountain lion.\\n', 'the mountain lion release marks the second time apple has offered an incremental upgrade, rather than releasing a new cat entirely.\\n', \"mac os x mountain lion installs in place, so you won't need to create a separate disk or run the installation off an external drive.\\n\", \"the fifth major update to mac os x, leopard, contains such a mountain of features - more than 300 by apple's count.\"]\n"
     ]
    }
   ],
   "source": [
    "print(sentence_list_lower)"
   ]
  },
  {
   "cell_type": "code",
   "execution_count": 208,
   "metadata": {},
   "outputs": [],
   "source": [
    "n = 0\n",
    "sentence = []\n",
    "for line in sentence_list_lower:\n",
    "    #print(n)\n",
    "    #print(len(sentence_list_lower))\n",
    "    #print(line)\n",
    "    #word = list(filter(None, re.split('[^a-z]', line))\n",
    "    word = re.split('[^a-z]', line)\n",
    "    word = list(filter(bool, word))\n",
    "    sentence.append(word)\n",
    "    n = n + 1\n",
    "    "
   ]
  },
  {
   "cell_type": "code",
   "execution_count": 209,
   "metadata": {},
   "outputs": [
    {
     "name": "stdout",
     "output_type": "stream",
     "text": [
      "[['in', 'comparison', 'to', 'dogs', 'cats', 'have', 'not', 'undergone', 'major', 'changes', 'during', 'the', 'domestication', 'process'], ['as', 'cat', 'simply', 'catenates', 'streams', 'of', 'bytes', 'it', 'can', 'be', 'also', 'used', 'to', 'concatenate', 'binary', 'files', 'where', 'it', 'will', 'just', 'concatenate', 'sequence', 'of', 'bytes'], ['a', 'common', 'interactive', 'use', 'of', 'cat', 'for', 'a', 'single', 'file', 'is', 'to', 'output', 'the', 'content', 'of', 'a', 'file', 'to', 'standard', 'output'], ['cats', 'can', 'hear', 'sounds', 'too', 'faint', 'or', 'too', 'high', 'in', 'frequency', 'for', 'human', 'ears', 'such', 'as', 'those', 'made', 'by', 'mice', 'and', 'other', 'small', 'animals'], ['in', 'one', 'people', 'deliberately', 'tamed', 'cats', 'in', 'a', 'process', 'of', 'artificial', 'selection', 'as', 'they', 'were', 'useful', 'predators', 'of', 'vermin'], ['the', 'domesticated', 'cat', 'and', 'its', 'closest', 'wild', 'ancestor', 'are', 'both', 'diploid', 'organisms', 'that', 'possess', 'chromosomes', 'and', 'roughly', 'genes'], ['domestic', 'cats', 'are', 'similar', 'in', 'size', 'to', 'the', 'other', 'members', 'of', 'the', 'genus', 'felis', 'typically', 'weighing', 'between', 'and', 'kg', 'and', 'lb'], ['however', 'if', 'the', 'output', 'is', 'piped', 'or', 'redirected', 'cat', 'is', 'unnecessary'], ['cat', 'with', 'one', 'named', 'file', 'is', 'safer', 'where', 'human', 'error', 'is', 'a', 'concern', 'one', 'wrong', 'use', 'of', 'the', 'default', 'redirection', 'symbol', 'instead', 'of', 'often', 'adjacent', 'on', 'keyboards', 'may', 'permanently', 'delete', 'the', 'file', 'you', 'were', 'just', 'needing', 'to', 'read'], ['in', 'terms', 'of', 'legibility', 'a', 'sequence', 'of', 'commands', 'starting', 'with', 'cat', 'and', 'connected', 'by', 'pipes', 'has', 'a', 'clear', 'left', 'to', 'right', 'flow', 'of', 'information'], ['cat', 'command', 'is', 'one', 'of', 'the', 'basic', 'commands', 'that', 'you', 'learned', 'when', 'you', 'started', 'in', 'the', 'unix', 'linux', 'world'], ['using', 'cat', 'command', 'the', 'lines', 'received', 'from', 'stdin', 'can', 'be', 'redirected', 'to', 'a', 'new', 'file', 'using', 'redirection', 'symbols'], ['when', 'you', 'type', 'simply', 'cat', 'command', 'without', 'any', 'arguments', 'it', 'just', 'receives', 'the', 'stdin', 'content', 'and', 'displays', 'it', 'in', 'the', 'stdout'], ['leopard', 'was', 'released', 'on', 'october', 'as', 'the', 'successor', 'of', 'tiger', 'version', 'and', 'is', 'available', 'in', 'two', 'editions'], ['according', 'to', 'apple', 'leopard', 'contains', 'over', 'changes', 'and', 'enhancements', 'over', 'its', 'predecessor', 'mac', 'os', 'x', 'tiger'], ['as', 'of', 'mid', 'some', 'apple', 'computers', 'have', 'firmware', 'factory', 'installed', 'which', 'will', 'no', 'longer', 'allow', 'installation', 'of', 'mac', 'os', 'x', 'leopard'], ['since', 'apple', 'moved', 'to', 'using', 'intel', 'processors', 'in', 'their', 'computers', 'the', 'osx', 'community', 'has', 'developed', 'and', 'now', 'also', 'allows', 'mac', 'os', 'x', 'tiger', 'and', 'later', 'releases', 'to', 'be', 'installed', 'on', 'non', 'apple', 'x', 'based', 'computers'], ['os', 'x', 'mountain', 'lion', 'was', 'released', 'on', 'july', 'for', 'purchase', 'and', 'download', 'through', 'apple', 's', 'mac', 'app', 'store', 'as', 'part', 'of', 'a', 'switch', 'to', 'releasing', 'os', 'x', 'versions', 'online', 'and', 'every', 'year'], ['apple', 'has', 'released', 'a', 'small', 'patch', 'for', 'the', 'three', 'most', 'recent', 'versions', 'of', 'safari', 'running', 'on', 'os', 'x', 'yosemite', 'mavericks', 'and', 'mountain', 'lion'], ['the', 'mountain', 'lion', 'release', 'marks', 'the', 'second', 'time', 'apple', 'has', 'offered', 'an', 'incremental', 'upgrade', 'rather', 'than', 'releasing', 'a', 'new', 'cat', 'entirely'], ['mac', 'os', 'x', 'mountain', 'lion', 'installs', 'in', 'place', 'so', 'you', 'won', 't', 'need', 'to', 'create', 'a', 'separate', 'disk', 'or', 'run', 'the', 'installation', 'off', 'an', 'external', 'drive'], ['the', 'fifth', 'major', 'update', 'to', 'mac', 'os', 'x', 'leopard', 'contains', 'such', 'a', 'mountain', 'of', 'features', 'more', 'than', 'by', 'apple', 's', 'count']]\n"
     ]
    }
   ],
   "source": [
    "print(sentence)"
   ]
  },
  {
   "cell_type": "code",
   "execution_count": 210,
   "metadata": {},
   "outputs": [
    {
     "name": "stdout",
     "output_type": "stream",
     "text": [
      "254\n",
      "['features', 'piped', 'developed', 'undergone', 'made', 'needing', 'later', 'hear', 'right', 'stdin', 'in', 'similar', 'versions', 'osx', 'deliberately', 'installed', 'artificial', 'if', 'second', 'place', 'off', 'most', 'for', 'patch', 'purchase', 'possess', 'time', 'legibility', 'domestic', 'such', 'were', 'need', 'bytes', 'domesticated', 'starting', 'mavericks', 't', 'release', 'animals', 'editions', 'yosemite', 'drive', 'keyboards', 'to', 'so', 'streams', 'just', 'allow', 'non', 'frequency', 'app', 'redirected', 'moved', 'an', 'allows', 'run', 'read', 'world', 'every', 'sequence', 'binary', 'high', 'based', 'are', 'unnecessary', 'october', 'recent', 'catenates', 'between', 'x', 'symbol', 'symbols', 'dogs', 'terms', 'releasing', 'by', 'won', 'one', 'marks', 'it', 'separate', 'fifth', 'selection', 'pipes', 'cat', 'according', 'small', 'with', 'displays', 'now', 'community', 'not', 'adjacent', 'predators', 'wrong', 'diploid', 'connected', 'which', 'releases', 'of', 'will', 'they', 'ears', 'comparison', 'error', 'started', 'contains', 'version', 'changes', 'useful', 'safer', 'its', 'however', 'vermin', 'is', 'mid', 'offered', 'factory', 'used', 'you', 'their', 'than', 'wild', 'or', 'genus', 'simply', 'receives', 'and', 'during', 'released', 'computers', 'other', 'a', 'leopard', 'tiger', 'processors', 'closest', 'create', 'cats', 'those', 'output', 'genes', 'no', 'weighing', 'arguments', 'human', 'left', 'enhancements', 'external', 'also', 'over', 'people', 'entirely', 'faint', 'installation', 'interactive', 'too', 'download', 'count', 'where', 'lion', 'received', 'available', 'was', 'sounds', 'concatenate', 'information', 'has', 'files', 'firmware', 'commands', 'lines', 'redirection', 'the', 'update', 'organisms', 'kg', 'using', 'content', 'running', 'linux', 'intel', 'some', 's', 'online', 'installs', 'may', 'without', 'through', 'on', 'two', 'any', 'have', 'default', 'os', 'domestication', 'use', 'members', 'rather', 'clear', 'delete', 'year', 'file', 'lb', 'basic', 'major', 'disk', 'successor', 'mac', 'switch', 'predecessor', 'mice', 'from', 'command', 'often', 'ancestor', 'standard', 'three', 'that', 'july', 'concern', 'named', 'flow', 'be', 'safari', 'as', 'felis', 'unix', 'part', 'typically', 'tamed', 'type', 'upgrade', 'chromosomes', 'longer', 'store', 'learned', 'apple', 'since', 'incremental', 'size', 'both', 'permanently', 'when', 'can', 'roughly', 'more', 'single', 'process', 'stdout', 'mountain', 'new', 'instead', 'common']\n"
     ]
    }
   ],
   "source": [
    "word_dict = []\n",
    "for i, word in enumerate(sentence):\n",
    "    for word1 in sentence[i]:\n",
    "        word_dict.append(word1)\n",
    "        \n",
    "set_word_dict = list(set(word_dict))\n",
    "print(len(set_word_dict))\n",
    "print(set_word_dict)"
   ]
  },
  {
   "cell_type": "code",
   "execution_count": 211,
   "metadata": {},
   "outputs": [
    {
     "name": "stdout",
     "output_type": "stream",
     "text": [
      "[[1. 1. 1. ... 1. 1. 1.]\n",
      " [1. 1. 1. ... 1. 1. 1.]\n",
      " [1. 1. 1. ... 1. 1. 1.]\n",
      " ...\n",
      " [1. 1. 1. ... 1. 1. 1.]\n",
      " [1. 1. 1. ... 1. 1. 1.]\n",
      " [1. 1. 1. ... 1. 1. 1.]]\n"
     ]
    }
   ],
   "source": [
    "n = len(sentence)\n",
    "d = len(set_word_dict)\n",
    "A = np.ones(shape=(n, d))\n",
    "print(A)"
   ]
  },
  {
   "cell_type": "code",
   "execution_count": 212,
   "metadata": {},
   "outputs": [
    {
     "name": "stdout",
     "output_type": "stream",
     "text": [
      "0.0\n"
     ]
    }
   ],
   "source": [
    "mean_for_matrix = [[]]\n",
    "for i, word in enumerate(sentence):\n",
    "    for z, k in enumerate(set_word_dict):\n",
    "        test = word.count(k)\n",
    "        A[(i, z)] = test\n",
    "print(A[0, 11])\n",
    "\n"
   ]
  },
  {
   "cell_type": "code",
   "execution_count": 213,
   "metadata": {},
   "outputs": [],
   "source": [
    "dists = []\n",
    "for row in A:\n",
    "    dists.append(scipy.spatial.distance.cosine(A[0,:], row))"
   ]
  },
  {
   "cell_type": "code",
   "execution_count": 215,
   "metadata": {},
   "outputs": [
    {
     "name": "stdout",
     "output_type": "stream",
     "text": [
      "1  :  0.0\n",
      "2  :  0.9527544408738466\n",
      "3  :  0.8644738145642124\n",
      "4  :  0.8951715163278082\n",
      "5  :  0.7770887149698589\n",
      "6  :  0.9402385695332803\n",
      "7  :  0.7327387580875756\n",
      "8  :  0.9258750683338899\n",
      "9  :  0.8842724875284311\n",
      "10  :  0.9055088817476932\n",
      "11  :  0.8328165362273942\n",
      "12  :  0.8804771390665607\n",
      "13  :  0.8396432548525454\n",
      "14  :  0.8703592552895671\n",
      "15  :  0.8740118423302576\n",
      "16  :  0.9442721787424647\n",
      "17  :  0.8406361854220809\n",
      "18  :  0.956644501523794\n",
      "19  :  0.9442721787424647\n",
      "20  :  0.8885443574849294\n",
      "21  :  0.8427572744917122\n",
      "22  :  0.8250364469440588\n"
     ]
    }
   ],
   "source": [
    "for n, i in enumerate(dists):\n",
    "    print(n+1, ' : ', i)"
   ]
  },
  {
   "cell_type": "markdown",
   "metadata": {},
   "source": [
    "# Conclusion"
   ]
  },
  {
   "cell_type": "markdown",
   "metadata": {},
   "source": [
    "Here I decided one problem: \n",
    "I compare all sentences in text with first(indec = 0).\n",
    "Here I used algothim of cosin from scipy lib.\n",
    "I found two simiar sentences fith first one. \n",
    "Their numbers are : 5 and 7"
   ]
  },
  {
   "cell_type": "code",
   "execution_count": null,
   "metadata": {},
   "outputs": [],
   "source": []
  }
 ],
 "metadata": {
  "kernelspec": {
   "display_name": "Python 3",
   "language": "python",
   "name": "python3"
  },
  "language_info": {
   "codemirror_mode": {
    "name": "ipython",
    "version": 3
   },
   "file_extension": ".py",
   "mimetype": "text/x-python",
   "name": "python",
   "nbconvert_exporter": "python",
   "pygments_lexer": "ipython3",
   "version": "3.6.4"
  }
 },
 "nbformat": 4,
 "nbformat_minor": 2
}
