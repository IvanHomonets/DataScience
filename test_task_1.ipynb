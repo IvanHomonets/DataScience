{
 "cells": [
  {
   "cell_type": "code",
   "execution_count": 18,
   "metadata": {},
   "outputs": [],
   "source": [
    "import pandas as pd\n",
    "from sklearn.tree import DecisionTreeRegressor\n",
    "import numpy as np"
   ]
  },
  {
   "cell_type": "code",
   "execution_count": 11,
   "metadata": {},
   "outputs": [],
   "source": [
    "X_train = pd.read_csv('X_train.csv', header=None)\n",
    "y_train = pd.read_csv('y_train.csv', header=None)\n",
    "X_test = pd.read_csv('X_test.csv', header=None)"
   ]
  },
  {
   "cell_type": "code",
   "execution_count": 10,
   "metadata": {},
   "outputs": [
    {
     "data": {
      "text/plain": [
       "DecisionTreeRegressor(criterion='mse', max_depth=None, max_features=None,\n",
       "           max_leaf_nodes=None, min_impurity_decrease=0.0,\n",
       "           min_impurity_split=None, min_samples_leaf=1,\n",
       "           min_samples_split=2, min_weight_fraction_leaf=0.0,\n",
       "           presort=False, random_state=None, splitter='best')"
      ]
     },
     "execution_count": 10,
     "metadata": {},
     "output_type": "execute_result"
    }
   ],
   "source": [
    "prediction_model = DecisionTreeRegressor()\n",
    "prediction_model.fit(X_train, y_train)"
   ]
  },
  {
   "cell_type": "code",
   "execution_count": 15,
   "metadata": {},
   "outputs": [
    {
     "name": "stdout",
     "output_type": "stream",
     "text": [
      "[ 3.0394  3.5787  4.9046 20.9252  7.3932  8.9764 12.4931 20.5922 19.7229\n",
      "  1.6034 10.1603 22.8937  3.3028 11.7736  3.2636 12.2248  7.2847  0.0909\n",
      " 22.1282  0.7082 -7.2776  3.3028  0.8841  2.5153 10.1603  1.6034  1.861\n",
      " -3.5673 17.6209  5.6784 12.7913 12.2248  2.9325 19.1443 15.1422 19.0133\n",
      " 15.1422  0.2335 18.511  13.5541 -0.6837 20.9252 22.8937 10.4031 -1.5227\n",
      " 14.6366 16.6678 21.1422  1.6034  2.5153 12.7097 11.6017 -2.0429 22.1282\n",
      " 13.222  17.286   7.2395  7.2395 -1.0138  2.5153 12.8619  1.861  20.6561\n",
      "  5.6784 12.7913  0.2335 17.286  -2.2365 13.3426 18.4745 11.7736  8.0773\n",
      "  5.7379 19.0133 10.1603 15.6377 14.8077 11.7736 14.9528  4.9046  2.5153\n",
      "  5.7586 -2.2106  1.861   2.5153  0.2335  3.2203 11.7736 17.286  10.1603\n",
      " -0.6837  7.7251 12.202   4.6425  0.8841  3.1508  7.7251 11.2223 12.7001\n",
      " 10.773 ]\n"
     ]
    }
   ],
   "source": [
    "y_array = prediction_model.predict(X_test)\n",
    "print(y_array)"
   ]
  },
  {
   "cell_type": "code",
   "execution_count": 22,
   "metadata": {},
   "outputs": [],
   "source": [
    "\n",
    "pd.DataFrame(y_array, columns=['predictions']).to_csv('y_test.csv', sep='\\t')"
   ]
  }
 ],
 "metadata": {
  "kernelspec": {
   "display_name": "Python 3",
   "language": "python",
   "name": "python3"
  },
  "language_info": {
   "codemirror_mode": {
    "name": "ipython",
    "version": 3
   },
   "file_extension": ".py",
   "mimetype": "text/x-python",
   "name": "python",
   "nbconvert_exporter": "python",
   "pygments_lexer": "ipython3",
   "version": "3.6.4"
  }
 },
 "nbformat": 4,
 "nbformat_minor": 2
}
